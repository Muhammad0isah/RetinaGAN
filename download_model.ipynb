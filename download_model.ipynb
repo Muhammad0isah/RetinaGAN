{
 "cells": [
  {
   "cell_type": "code",
   "execution_count": 1,
   "id": "dfb5f209-4210-41b4-8640-34681b6556d0",
   "metadata": {},
   "outputs": [
    {
     "name": "stdout",
     "output_type": "stream",
     "text": [
      "Downloading...\n",
      "Download complete.\n",
      "Extracted to: cstylegan\n"
     ]
    }
   ],
   "source": [
    "# download model \n",
    "import os\n",
    "import zipfile\n",
    "import urllib.request\n",
    "\n",
    "# Step 1: Set the URL and local filename\n",
    "url = \"https://www.doc.ic.ac.uk/~bh1511/research/RetinaGAN/cstylegan.zip\"\n",
    "local_zip_path = \"cstylegan.zip\"\n",
    "\n",
    "# Step 2: Download the ZIP file\n",
    "print(\"Downloading...\")\n",
    "urllib.request.urlretrieve(url, local_zip_path)\n",
    "print(\"Download complete.\")\n",
    "\n",
    "# Step 3: Extract the ZIP file\n",
    "extract_path = \"cstylegan\"\n",
    "with zipfile.ZipFile(local_zip_path, 'r') as zip_ref:\n",
    "    zip_ref.extractall(extract_path)\n",
    "\n",
    "print(f\"Extracted to: {extract_path}\")\n"
   ]
  },
  {
   "cell_type": "code",
   "execution_count": null,
   "id": "51384147-6de1-482a-9043-443724aae8f8",
   "metadata": {},
   "outputs": [
    {
     "name": "stdout",
     "output_type": "stream",
     "text": [
      "Downloading...\n"
     ]
    }
   ],
   "source": [
    "# download model \n",
    "import os\n",
    "import zipfile\n",
    "import urllib.request\n",
    "\n",
    "# Step 1: Set the URL and local filename\n",
    "url = \"https://www.doc.ic.ac.uk/~bh1511/research/RetinaGAN/gaugan.zip\"\n",
    "local_zip_path = \"gaugan.zip\"\n",
    "\n",
    "# Step 2: Download the ZIP file\n",
    "print(\"Downloading...\")\n",
    "urllib.request.urlretrieve(url, local_zip_path)\n",
    "print(\"Download complete.\")\n",
    "\n",
    "# Step 3: Extract the ZIP file\n",
    "extract_path = \"gaugan\"\n",
    "with zipfile.ZipFile(local_zip_path, 'r') as zip_ref:\n",
    "    zip_ref.extractall(extract_path)\n",
    "\n",
    "print(f\"Extracted to: {extract_path}\")\n"
   ]
  },
  {
   "cell_type": "code",
   "execution_count": 1,
   "id": "ef7be243-1d54-45cd-9d58-766b3da3c861",
   "metadata": {},
   "outputs": [
    {
     "name": "stdout",
     "output_type": "stream",
     "text": [
      "Saved synthetic_train_data.csv with 4570 rows.\n"
     ]
    }
   ],
   "source": [
    "import os\n",
    "import pandas as pd\n",
    "\n",
    "synthetic_root = 'generated_images'\n",
    "data = []\n",
    "\n",
    "# Traverse all nested folders\n",
    "for root, dirs, files in os.walk(synthetic_root):\n",
    "    for file in files:\n",
    "        if file.endswith('.png') and file.startswith('synthetic'):\n",
    "            full_path = os.path.join(root, file)\n",
    "            try:\n",
    "                label = int(file.split('_')[1])  # extract diagnosis from filename\n",
    "                file_id = file.replace('.png', '')  # id_code\n",
    "                data.append({\n",
    "                    'id_code': file_id,\n",
    "                    'diagnosis': label,\n",
    "                    'file_path': full_path,\n",
    "                    'file_name': file\n",
    "                })\n",
    "            except Exception as e:\n",
    "                print(f\"Skipping file {file} due to error: {e}\")\n",
    "\n",
    "df_synthetic = pd.DataFrame(data)\n",
    "df_synthetic.to_csv('synthetic_train_data.csv', index=False)\n",
    "print(f\"Saved synthetic_train_data.csv with {len(df_synthetic)} rows.\")\n"
   ]
  },
  {
   "cell_type": "code",
   "execution_count": null,
   "id": "0ec5a15e-a216-4617-b4c2-649137e79604",
   "metadata": {},
   "outputs": [],
   "source": []
  }
 ],
 "metadata": {
  "kernelspec": {
   "display_name": "Python (TF XPU)",
   "language": "python",
   "name": "tf-xpu"
  },
  "language_info": {
   "codemirror_mode": {
    "name": "ipython",
    "version": 3
   },
   "file_extension": ".py",
   "mimetype": "text/x-python",
   "name": "python",
   "nbconvert_exporter": "python",
   "pygments_lexer": "ipython3",
   "version": "3.10.12"
  }
 },
 "nbformat": 4,
 "nbformat_minor": 5
}
